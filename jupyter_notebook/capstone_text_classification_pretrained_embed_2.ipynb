{
  "nbformat": 4,
  "nbformat_minor": 0,
  "metadata": {
    "accelerator": "GPU",
    "colab": {
      "name": "capstone-text-classification-pretrained embed-2.ipynb",
      "provenance": [],
      "collapsed_sections": [],
      "toc_visible": true
    },
    "kernelspec": {
      "display_name": "Python 3",
      "name": "python3"
    },
    "language_info": {
      "name": "python"
    },
    "widgets": {
      "application/vnd.jupyter.widget-state+json": {
        "be62605c3c2744d5a17ac1a81d90dcc6": {
          "model_module": "@jupyter-widgets/controls",
          "model_name": "HBoxModel",
          "state": {
            "_dom_classes": [],
            "_model_module": "@jupyter-widgets/controls",
            "_model_module_version": "1.5.0",
            "_model_name": "HBoxModel",
            "_view_count": null,
            "_view_module": "@jupyter-widgets/controls",
            "_view_module_version": "1.5.0",
            "_view_name": "HBoxView",
            "box_style": "",
            "children": [
              "IPY_MODEL_ac0dc2d9f77041cba190082c579d55f7",
              "IPY_MODEL_3f44496f6da543a68b916ab5b213a9e5"
            ],
            "layout": "IPY_MODEL_b39cf52854464d33b0b2562b7bb4f8cb"
          }
        },
        "ac0dc2d9f77041cba190082c579d55f7": {
          "model_module": "@jupyter-widgets/controls",
          "model_name": "FloatProgressModel",
          "state": {
            "_dom_classes": [],
            "_model_module": "@jupyter-widgets/controls",
            "_model_module_version": "1.5.0",
            "_model_name": "FloatProgressModel",
            "_view_count": null,
            "_view_module": "@jupyter-widgets/controls",
            "_view_module_version": "1.5.0",
            "_view_name": "ProgressView",
            "bar_style": "success",
            "description": "Pandas Apply: 100%",
            "description_tooltip": null,
            "layout": "IPY_MODEL_64a9abe7cc3a462688a2f1f1b111dbe0",
            "max": 8902,
            "min": 0,
            "orientation": "horizontal",
            "style": "IPY_MODEL_259fe87f195546cbb3826ea25e2b67f6",
            "value": 8902
          }
        },
        "3f44496f6da543a68b916ab5b213a9e5": {
          "model_module": "@jupyter-widgets/controls",
          "model_name": "HTMLModel",
          "state": {
            "_dom_classes": [],
            "_model_module": "@jupyter-widgets/controls",
            "_model_module_version": "1.5.0",
            "_model_name": "HTMLModel",
            "_view_count": null,
            "_view_module": "@jupyter-widgets/controls",
            "_view_module_version": "1.5.0",
            "_view_name": "HTMLView",
            "description": "",
            "description_tooltip": null,
            "layout": "IPY_MODEL_56d8fe25f6154a819e394bc3a3357fdd",
            "placeholder": "​",
            "style": "IPY_MODEL_0845e064155b495fa48a870b61e43d58",
            "value": " 8902/8902 [00:42&lt;00:00, 208.84it/s]"
          }
        },
        "b39cf52854464d33b0b2562b7bb4f8cb": {
          "model_module": "@jupyter-widgets/base",
          "model_name": "LayoutModel",
          "state": {
            "_model_module": "@jupyter-widgets/base",
            "_model_module_version": "1.2.0",
            "_model_name": "LayoutModel",
            "_view_count": null,
            "_view_module": "@jupyter-widgets/base",
            "_view_module_version": "1.2.0",
            "_view_name": "LayoutView",
            "align_content": null,
            "align_items": null,
            "align_self": null,
            "border": null,
            "bottom": null,
            "display": null,
            "flex": null,
            "flex_flow": null,
            "grid_area": null,
            "grid_auto_columns": null,
            "grid_auto_flow": null,
            "grid_auto_rows": null,
            "grid_column": null,
            "grid_gap": null,
            "grid_row": null,
            "grid_template_areas": null,
            "grid_template_columns": null,
            "grid_template_rows": null,
            "height": null,
            "justify_content": null,
            "justify_items": null,
            "left": null,
            "margin": null,
            "max_height": null,
            "max_width": null,
            "min_height": null,
            "min_width": null,
            "object_fit": null,
            "object_position": null,
            "order": null,
            "overflow": null,
            "overflow_x": null,
            "overflow_y": null,
            "padding": null,
            "right": null,
            "top": null,
            "visibility": null,
            "width": null
          }
        },
        "64a9abe7cc3a462688a2f1f1b111dbe0": {
          "model_module": "@jupyter-widgets/base",
          "model_name": "LayoutModel",
          "state": {
            "_model_module": "@jupyter-widgets/base",
            "_model_module_version": "1.2.0",
            "_model_name": "LayoutModel",
            "_view_count": null,
            "_view_module": "@jupyter-widgets/base",
            "_view_module_version": "1.2.0",
            "_view_name": "LayoutView",
            "align_content": null,
            "align_items": null,
            "align_self": null,
            "border": null,
            "bottom": null,
            "display": null,
            "flex": null,
            "flex_flow": null,
            "grid_area": null,
            "grid_auto_columns": null,
            "grid_auto_flow": null,
            "grid_auto_rows": null,
            "grid_column": null,
            "grid_gap": null,
            "grid_row": null,
            "grid_template_areas": null,
            "grid_template_columns": null,
            "grid_template_rows": null,
            "height": null,
            "justify_content": null,
            "justify_items": null,
            "left": null,
            "margin": null,
            "max_height": null,
            "max_width": null,
            "min_height": null,
            "min_width": null,
            "object_fit": null,
            "object_position": null,
            "order": null,
            "overflow": null,
            "overflow_x": null,
            "overflow_y": null,
            "padding": null,
            "right": null,
            "top": null,
            "visibility": null,
            "width": null
          }
        },
        "259fe87f195546cbb3826ea25e2b67f6": {
          "model_module": "@jupyter-widgets/controls",
          "model_name": "ProgressStyleModel",
          "state": {
            "_model_module": "@jupyter-widgets/controls",
            "_model_module_version": "1.5.0",
            "_model_name": "ProgressStyleModel",
            "_view_count": null,
            "_view_module": "@jupyter-widgets/base",
            "_view_module_version": "1.2.0",
            "_view_name": "StyleView",
            "bar_color": null,
            "description_width": "initial"
          }
        },
        "56d8fe25f6154a819e394bc3a3357fdd": {
          "model_module": "@jupyter-widgets/base",
          "model_name": "LayoutModel",
          "state": {
            "_model_module": "@jupyter-widgets/base",
            "_model_module_version": "1.2.0",
            "_model_name": "LayoutModel",
            "_view_count": null,
            "_view_module": "@jupyter-widgets/base",
            "_view_module_version": "1.2.0",
            "_view_name": "LayoutView",
            "align_content": null,
            "align_items": null,
            "align_self": null,
            "border": null,
            "bottom": null,
            "display": null,
            "flex": null,
            "flex_flow": null,
            "grid_area": null,
            "grid_auto_columns": null,
            "grid_auto_flow": null,
            "grid_auto_rows": null,
            "grid_column": null,
            "grid_gap": null,
            "grid_row": null,
            "grid_template_areas": null,
            "grid_template_columns": null,
            "grid_template_rows": null,
            "height": null,
            "justify_content": null,
            "justify_items": null,
            "left": null,
            "margin": null,
            "max_height": null,
            "max_width": null,
            "min_height": null,
            "min_width": null,
            "object_fit": null,
            "object_position": null,
            "order": null,
            "overflow": null,
            "overflow_x": null,
            "overflow_y": null,
            "padding": null,
            "right": null,
            "top": null,
            "visibility": null,
            "width": null
          }
        },
        "0845e064155b495fa48a870b61e43d58": {
          "model_module": "@jupyter-widgets/controls",
          "model_name": "DescriptionStyleModel",
          "state": {
            "_model_module": "@jupyter-widgets/controls",
            "_model_module_version": "1.5.0",
            "_model_name": "DescriptionStyleModel",
            "_view_count": null,
            "_view_module": "@jupyter-widgets/base",
            "_view_module_version": "1.2.0",
            "_view_name": "StyleView",
            "description_width": ""
          }
        }
      }
    }
  },
  "cells": [
    {
      "cell_type": "markdown",
      "metadata": {
        "id": "2ksdosJH8Lsg"
      },
      "source": [
        "# Try 2"
      ]
    },
    {
      "cell_type": "markdown",
      "metadata": {
        "id": "ktFdK7wd9XBj"
      },
      "source": [
        "## Install Dependencies\n"
      ]
    },
    {
      "cell_type": "code",
      "metadata": {
        "colab": {
          "base_uri": "https://localhost:8080/"
        },
        "id": "2VTzK4on9Dwj",
        "outputId": "07171e9c-b8f5-404c-d378-2d9ecd340cc7"
      },
      "source": [
        "!pip install PySastrawi"
      ],
      "execution_count": null,
      "outputs": [
        {
          "output_type": "stream",
          "text": [
            "Collecting PySastrawi\n",
            "\u001b[?25l  Downloading https://files.pythonhosted.org/packages/61/84/b0a5454a040f81e81e6a95a5d5635f20ad43cc0c288f8b4966b339084962/PySastrawi-1.2.0-py2.py3-none-any.whl (210kB)\n",
            "\r\u001b[K     |█▋                              | 10kB 17.4MB/s eta 0:00:01\r\u001b[K     |███▏                            | 20kB 18.4MB/s eta 0:00:01\r\u001b[K     |████▊                           | 30kB 15.1MB/s eta 0:00:01\r\u001b[K     |██████▎                         | 40kB 13.4MB/s eta 0:00:01\r\u001b[K     |███████▉                        | 51kB 7.5MB/s eta 0:00:01\r\u001b[K     |█████████▍                      | 61kB 8.6MB/s eta 0:00:01\r\u001b[K     |███████████                     | 71kB 8.4MB/s eta 0:00:01\r\u001b[K     |████████████▌                   | 81kB 9.3MB/s eta 0:00:01\r\u001b[K     |██████████████                  | 92kB 8.4MB/s eta 0:00:01\r\u001b[K     |███████████████▋                | 102kB 7.2MB/s eta 0:00:01\r\u001b[K     |█████████████████▏              | 112kB 7.2MB/s eta 0:00:01\r\u001b[K     |██████████████████▊             | 122kB 7.2MB/s eta 0:00:01\r\u001b[K     |████████████████████▎           | 133kB 7.2MB/s eta 0:00:01\r\u001b[K     |█████████████████████▉          | 143kB 7.2MB/s eta 0:00:01\r\u001b[K     |███████████████████████▍        | 153kB 7.2MB/s eta 0:00:01\r\u001b[K     |█████████████████████████       | 163kB 7.2MB/s eta 0:00:01\r\u001b[K     |██████████████████████████▌     | 174kB 7.2MB/s eta 0:00:01\r\u001b[K     |████████████████████████████    | 184kB 7.2MB/s eta 0:00:01\r\u001b[K     |█████████████████████████████▋  | 194kB 7.2MB/s eta 0:00:01\r\u001b[K     |███████████████████████████████▏| 204kB 7.2MB/s eta 0:00:01\r\u001b[K     |████████████████████████████████| 215kB 7.2MB/s \n",
            "\u001b[?25hInstalling collected packages: PySastrawi\n",
            "Successfully installed PySastrawi-1.2.0\n"
          ],
          "name": "stdout"
        }
      ]
    },
    {
      "cell_type": "code",
      "metadata": {
        "colab": {
          "base_uri": "https://localhost:8080/"
        },
        "id": "HsGCCN1U8OM9",
        "outputId": "cd777277-64a2-4268-cb78-006d24fed4e7"
      },
      "source": [
        "import csv\n",
        "import tensorflow as tf\n",
        "import tensorflow_hub as hub\n",
        "from tensorflow import keras\n",
        "from tensorflow.keras import layers\n",
        "import numpy as np\n",
        "import pandas as pd\n",
        "import re\n",
        "import os\n",
        "import string\n",
        "import nltk\n",
        "from nltk.corpus import stopwords\n",
        "from Sastrawi.Stemmer.StemmerFactory import StemmerFactory\n",
        "nltk.download('punkt')\n",
        "nltk.download('stopwords')"
      ],
      "execution_count": null,
      "outputs": [
        {
          "output_type": "stream",
          "text": [
            "[nltk_data] Downloading package punkt to /root/nltk_data...\n",
            "[nltk_data]   Unzipping tokenizers/punkt.zip.\n",
            "[nltk_data] Downloading package stopwords to /root/nltk_data...\n",
            "[nltk_data]   Unzipping corpora/stopwords.zip.\n"
          ],
          "name": "stdout"
        },
        {
          "output_type": "execute_result",
          "data": {
            "text/plain": [
              "True"
            ]
          },
          "metadata": {
            "tags": []
          },
          "execution_count": 2
        }
      ]
    },
    {
      "cell_type": "code",
      "metadata": {
        "id": "pONZvNFsIYBz"
      },
      "source": [
        "from nltk.tokenize import word_tokenize "
      ],
      "execution_count": null,
      "outputs": []
    },
    {
      "cell_type": "code",
      "metadata": {
        "id": "sL-835GEcCSY"
      },
      "source": [
        "from google.colab import drive\n",
        "drive.mount('/content/drive')"
      ],
      "execution_count": null,
      "outputs": []
    },
    {
      "cell_type": "markdown",
      "metadata": {
        "id": "Sw_tW_VP_qYS"
      },
      "source": [
        "## Text Pre-Processing"
      ]
    },
    {
      "cell_type": "code",
      "metadata": {
        "id": "_MdWSYeI9Mpq"
      },
      "source": [
        "df_dataset = pd.read_csv('/content/drive/MyDrive/data/train_indo.csv')"
      ],
      "execution_count": null,
      "outputs": []
    },
    {
      "cell_type": "code",
      "metadata": {
        "id": "sgpHuEUfmUgA"
      },
      "source": [
        "df_dataset2 = df_dataset"
      ],
      "execution_count": null,
      "outputs": []
    },
    {
      "cell_type": "code",
      "metadata": {
        "colab": {
          "base_uri": "https://localhost:8080/",
          "height": 200
        },
        "id": "qwikhbiI_6ax",
        "outputId": "721a6a28-ee39-43ce-ba15-802f27857a2e"
      },
      "source": [
        "df_dataset.head(5)"
      ],
      "execution_count": null,
      "outputs": [
        {
          "output_type": "execute_result",
          "data": {
            "text/html": [
              "<div>\n",
              "<style scoped>\n",
              "    .dataframe tbody tr th:only-of-type {\n",
              "        vertical-align: middle;\n",
              "    }\n",
              "\n",
              "    .dataframe tbody tr th {\n",
              "        vertical-align: top;\n",
              "    }\n",
              "\n",
              "    .dataframe thead th {\n",
              "        text-align: right;\n",
              "    }\n",
              "</style>\n",
              "<table border=\"1\" class=\"dataframe\">\n",
              "  <thead>\n",
              "    <tr style=\"text-align: right;\">\n",
              "      <th></th>\n",
              "      <th>deskripsi</th>\n",
              "      <th>komentar</th>\n",
              "      <th>menatap</th>\n",
              "      <th>memegang</th>\n",
              "    </tr>\n",
              "  </thead>\n",
              "  <tbody>\n",
              "    <tr>\n",
              "      <th>0</th>\n",
              "      <td>Sedang berjalan di sepanjang jalan yang ramai,...</td>\n",
              "      <td>0</td>\n",
              "      <td>0</td>\n",
              "      <td>1</td>\n",
              "    </tr>\n",
              "    <tr>\n",
              "      <th>1</th>\n",
              "      <td>Kejadian ini terjadi pada malam hari, saya ber...</td>\n",
              "      <td>0</td>\n",
              "      <td>1</td>\n",
              "      <td>0</td>\n",
              "    </tr>\n",
              "    <tr>\n",
              "      <th>2</th>\n",
              "      <td>SAYA MENUNGGU BUS. SEORANG PRIA DATANG DENGAN ...</td>\n",
              "      <td>1</td>\n",
              "      <td>0</td>\n",
              "      <td>0</td>\n",
              "    </tr>\n",
              "    <tr>\n",
              "      <th>3</th>\n",
              "      <td>Insiden terjadi di dalam kereta</td>\n",
              "      <td>0</td>\n",
              "      <td>0</td>\n",
              "      <td>0</td>\n",
              "    </tr>\n",
              "    <tr>\n",
              "      <th>4</th>\n",
              "      <td>Saya menyaksikan sebuah insiden ketika sebuah ...</td>\n",
              "      <td>0</td>\n",
              "      <td>0</td>\n",
              "      <td>0</td>\n",
              "    </tr>\n",
              "  </tbody>\n",
              "</table>\n",
              "</div>"
            ],
            "text/plain": [
              "                                           deskripsi  ...  memegang\n",
              "0  Sedang berjalan di sepanjang jalan yang ramai,...  ...         1\n",
              "1  Kejadian ini terjadi pada malam hari, saya ber...  ...         0\n",
              "2  SAYA MENUNGGU BUS. SEORANG PRIA DATANG DENGAN ...  ...         0\n",
              "3                    Insiden terjadi di dalam kereta  ...         0\n",
              "4  Saya menyaksikan sebuah insiden ketika sebuah ...  ...         0\n",
              "\n",
              "[5 rows x 4 columns]"
            ]
          },
          "metadata": {
            "tags": []
          },
          "execution_count": 15
        }
      ]
    },
    {
      "cell_type": "code",
      "metadata": {
        "id": "0ftSSpM5DOz0"
      },
      "source": [
        "# remove special char\n",
        "def remove_special_char(text):\n",
        "    # remove tab, new line, ans back slice\n",
        "    text = text.replace('\\\\t',\" \").replace('\\\\n',\" \").replace('\\\\u',\" \").replace('\\\\',\"\")\n",
        "    # remove non ASCII (emoticon, chinese word, .etc)\n",
        "    text = text.encode('ascii', 'replace').decode('ascii')\n",
        "    # remove mention, link, hashtag\n",
        "    text = ' '.join(re.sub(\"([@#][A-Za-z0-9]+)|(\\w+:\\/\\/\\S+)\",\" \", text).split())\n",
        "    # remove incomplete URL\n",
        "    return text.replace(\"http://\", \" \").replace(\"https://\", \" \")\n",
        "\n",
        "# remove number\n",
        "def remove_number(text):\n",
        "    return  re.sub(r\"\\d+\", \"\", text)\n",
        "\n",
        "# remove punctuation\n",
        "def remove_punctuation(text):\n",
        "    return text.translate(str.maketrans(\"\",\"\",string.punctuation))\n",
        "\n",
        "# remove whitespace leading & trailing\n",
        "def remove_whitespace_LT(text):\n",
        "    return text.strip()\n",
        "\n",
        "# remove multiple whitespace into single whitespace\n",
        "def remove_whitespace_multiple(text):\n",
        "    return re.sub('\\s+',' ',text)\n",
        "\n",
        "# remove single char\n",
        "def remove_single_char(text):\n",
        "    return re.sub(r\"\\b[a-zA-Z]\\b\", \"\", text)\n",
        "\n",
        "# NLTK word rokenize \n",
        "def word_tokenize_wrapper(text):\n",
        "    return word_tokenize(text)\n"
      ],
      "execution_count": null,
      "outputs": []
    },
    {
      "cell_type": "code",
      "metadata": {
        "id": "2fCxpdeDATYD"
      },
      "source": [
        "df_dataset['deskripsi'] = df_dataset['deskripsi'].str.lower()\n",
        "df_dataset['deskripsi'] = df_dataset['deskripsi'].apply(remove_special_char)\n",
        "df_dataset['deskripsi'] = df_dataset['deskripsi'].apply(remove_number)\n",
        "df_dataset['deskripsi'] = df_dataset['deskripsi'].apply(remove_punctuation)\n",
        "df_dataset['deskripsi'] = df_dataset['deskripsi'].apply(remove_whitespace_LT)\n",
        "df_dataset['deskripsi'] = df_dataset['deskripsi'].apply(remove_whitespace_multiple)\n",
        "df_dataset['deskripsi'] = df_dataset['deskripsi'].apply(remove_single_char)\n",
        "df_dataset['deskripsi'] = df_dataset['deskripsi'].apply(word_tokenize_wrapper)"
      ],
      "execution_count": null,
      "outputs": []
    },
    {
      "cell_type": "code",
      "metadata": {
        "id": "FuKQl-B-ETi-"
      },
      "source": [
        "# stopwords_removal\n",
        "list_stopwords = stopwords.words('indonesian')\n",
        "txt_stopword = pd.read_csv(\"/content/drive/MyDrive/data/stopwords-id.txt\", names= [\"stopwords\"], header = None)\n",
        "list_stopwords.extend(txt_stopword[\"stopwords\"][0].split(' '))\n",
        "list_stopwords = set(list_stopwords)\n",
        "\n",
        "def stopwords_removal(words):\n",
        "    return [word for word in words if word not in list_stopwords]\n",
        "\n",
        "df_dataset['deskripsi'] = df_dataset['deskripsi'].apply(stopwords_removal) "
      ],
      "execution_count": null,
      "outputs": []
    },
    {
      "cell_type": "code",
      "metadata": {
        "id": "IWgliHbAImnQ"
      },
      "source": [
        "# Normalizing\n",
        "normalizad_word = pd.read_csv(\"/content/drive/MyDrive/data/normalisasi.csv\")\n",
        "\n",
        "normalizad_word_dict = {}\n",
        "\n",
        "for index, row in normalizad_word.iterrows():\n",
        "    if row[0] not in normalizad_word_dict:\n",
        "        normalizad_word_dict[row[0]] = row[1] \n",
        "\n",
        "def normalized_term(document):\n",
        "    return [normalizad_word_dict[term] if term in normalizad_word_dict else term for term in document]\n",
        "\n",
        "df_dataset['deskripsi'] = df_dataset['deskripsi'].apply(normalized_term)\n"
      ],
      "execution_count": null,
      "outputs": []
    },
    {
      "cell_type": "code",
      "metadata": {
        "colab": {
          "base_uri": "https://localhost:8080/",
          "height": 68,
          "referenced_widgets": [
            "be62605c3c2744d5a17ac1a81d90dcc6",
            "ac0dc2d9f77041cba190082c579d55f7",
            "3f44496f6da543a68b916ab5b213a9e5",
            "b39cf52854464d33b0b2562b7bb4f8cb",
            "64a9abe7cc3a462688a2f1f1b111dbe0",
            "259fe87f195546cbb3826ea25e2b67f6",
            "56d8fe25f6154a819e394bc3a3357fdd",
            "0845e064155b495fa48a870b61e43d58"
          ]
        },
        "id": "Ef998U2qKkcU",
        "outputId": "554453d4-1776-4b46-b030-6a1743800953"
      },
      "source": [
        "# Stemming\n",
        "# Create stemmer\n",
        "factory = StemmerFactory()\n",
        "stemmer = factory.create_stemmer()\n",
        "\n",
        "# Stemmed\n",
        "def stemmed_wrapper(term):\n",
        "    return stemmer.stem(term)\n",
        "\n",
        "term_dict = {}\n",
        "\n",
        "for document in df_dataset['deskripsi']:\n",
        "    for term in document:\n",
        "        if term not in term_dict:\n",
        "            term_dict[term] = ' '\n",
        "\n",
        "for term in term_dict:\n",
        "    term_dict[term] = stemmed_wrapper(term)\n",
        "    \n",
        "# Apply stemmed term to dataframe\n",
        "def get_stemmed_term(document):\n",
        "    return [term_dict[term] for term in document]\n",
        "\n",
        "df_dataset['deskripsi'] = df_dataset['deskripsi'].apply(get_stemmed_term)"
      ],
      "execution_count": null,
      "outputs": [
        {
          "output_type": "display_data",
          "data": {
            "application/vnd.jupyter.widget-view+json": {
              "model_id": "be62605c3c2744d5a17ac1a81d90dcc6",
              "version_major": 2,
              "version_minor": 0
            },
            "text/plain": [
              "HBox(children=(FloatProgress(value=0.0, description='Pandas Apply', max=8902.0, style=ProgressStyle(descriptio…"
            ]
          },
          "metadata": {
            "tags": []
          }
        },
        {
          "output_type": "stream",
          "text": [
            "\n"
          ],
          "name": "stdout"
        }
      ]
    },
    {
      "cell_type": "code",
      "metadata": {
        "id": "YwS6U51UP6lN"
      },
      "source": [
        "# Detokenize\n",
        "def untokenize(words):\n",
        "    text = ' '.join(words)\n",
        "    text = text.replace(\"`` \", '\"').replace(\" ''\", '\"').replace('. . .',  '...')\n",
        "    text = text.replace(\" ( \", \" (\").replace(\" ) \", \") \")\n",
        "    text = re.sub(r' ([.,:;?!%]+)([ \\'\"`])', r\"\\1\\2\", text)\n",
        "    text = re.sub(r' ([.,:;?!%]+)$', r\"\\1\", text)\n",
        "    return text.strip()\n",
        "\n",
        "df_dataset['deskripsi'] = df_dataset['deskripsi'].apply(untokenize)"
      ],
      "execution_count": null,
      "outputs": []
    },
    {
      "cell_type": "markdown",
      "metadata": {
        "id": "WlZpgnz-LLkB"
      },
      "source": [
        "## Create Dataset and Pipeline for Model"
      ]
    },
    {
      "cell_type": "code",
      "metadata": {
        "colab": {
          "base_uri": "https://localhost:8080/",
          "height": 423
        },
        "id": "KsgMRDAtiMMe",
        "outputId": "af85499e-47a9-442e-e01e-750ff4b8240f"
      },
      "source": [
        "df_dataset"
      ],
      "execution_count": null,
      "outputs": [
        {
          "output_type": "execute_result",
          "data": {
            "text/html": [
              "<div>\n",
              "<style scoped>\n",
              "    .dataframe tbody tr th:only-of-type {\n",
              "        vertical-align: middle;\n",
              "    }\n",
              "\n",
              "    .dataframe tbody tr th {\n",
              "        vertical-align: top;\n",
              "    }\n",
              "\n",
              "    .dataframe thead th {\n",
              "        text-align: right;\n",
              "    }\n",
              "</style>\n",
              "<table border=\"1\" class=\"dataframe\">\n",
              "  <thead>\n",
              "    <tr style=\"text-align: right;\">\n",
              "      <th></th>\n",
              "      <th>deskripsi</th>\n",
              "      <th>komentar</th>\n",
              "      <th>menatap</th>\n",
              "      <th>memegang</th>\n",
              "    </tr>\n",
              "  </thead>\n",
              "  <tbody>\n",
              "    <tr>\n",
              "      <th>0</th>\n",
              "      <td>jalan jalan ramai pegang tangan lelaki tua mer...</td>\n",
              "      <td>0</td>\n",
              "      <td>0</td>\n",
              "      <td>1</td>\n",
              "    </tr>\n",
              "    <tr>\n",
              "      <th>1</th>\n",
              "      <td>jadi malam metro orang tatap</td>\n",
              "      <td>0</td>\n",
              "      <td>1</td>\n",
              "      <td>0</td>\n",
              "    </tr>\n",
              "    <tr>\n",
              "      <th>2</th>\n",
              "      <td>tunggu bus pria sepeda tawar gadis muda liftvto</td>\n",
              "      <td>1</td>\n",
              "      <td>0</td>\n",
              "      <td>0</td>\n",
              "    </tr>\n",
              "    <tr>\n",
              "      <th>3</th>\n",
              "      <td>insiden kereta</td>\n",
              "      <td>0</td>\n",
              "      <td>0</td>\n",
              "      <td>0</td>\n",
              "    </tr>\n",
              "    <tr>\n",
              "      <th>4</th>\n",
              "      <td>saksi insiden rantai renggut brutal wanita tua...</td>\n",
              "      <td>0</td>\n",
              "      <td>0</td>\n",
              "      <td>0</td>\n",
              "    </tr>\n",
              "    <tr>\n",
              "      <th>...</th>\n",
              "      <td>...</td>\n",
              "      <td>...</td>\n",
              "      <td>...</td>\n",
              "      <td>...</td>\n",
              "    </tr>\n",
              "    <tr>\n",
              "      <th>8897</th>\n",
              "      <td>komentar tatap senonoh</td>\n",
              "      <td>1</td>\n",
              "      <td>0</td>\n",
              "      <td>0</td>\n",
              "    </tr>\n",
              "    <tr>\n",
              "      <th>8898</th>\n",
              "      <td>pergi teman metro pagi kelompok anak lakilaki ...</td>\n",
              "      <td>1</td>\n",
              "      <td>0</td>\n",
              "      <td>1</td>\n",
              "    </tr>\n",
              "    <tr>\n",
              "      <th>8899</th>\n",
              "      <td>coba tangkap jalan stasiun kereta api stasiun ...</td>\n",
              "      <td>0</td>\n",
              "      <td>0</td>\n",
              "      <td>1</td>\n",
              "    </tr>\n",
              "    <tr>\n",
              "      <th>8900</th>\n",
              "      <td>orang jahat sentuh pribadi ranchibhagalpur exp...</td>\n",
              "      <td>0</td>\n",
              "      <td>0</td>\n",
              "      <td>1</td>\n",
              "    </tr>\n",
              "    <tr>\n",
              "      <th>8901</th>\n",
              "      <td>usia jenis leceh catcalls pasar boleh</td>\n",
              "      <td>0</td>\n",
              "      <td>0</td>\n",
              "      <td>0</td>\n",
              "    </tr>\n",
              "  </tbody>\n",
              "</table>\n",
              "<p>8902 rows × 4 columns</p>\n",
              "</div>"
            ],
            "text/plain": [
              "                                              deskripsi  ...  memegang\n",
              "0     jalan jalan ramai pegang tangan lelaki tua mer...  ...         1\n",
              "1                          jadi malam metro orang tatap  ...         0\n",
              "2       tunggu bus pria sepeda tawar gadis muda liftvto  ...         0\n",
              "3                                        insiden kereta  ...         0\n",
              "4     saksi insiden rantai renggut brutal wanita tua...  ...         0\n",
              "...                                                 ...  ...       ...\n",
              "8897                             komentar tatap senonoh  ...         0\n",
              "8898  pergi teman metro pagi kelompok anak lakilaki ...  ...         1\n",
              "8899  coba tangkap jalan stasiun kereta api stasiun ...  ...         1\n",
              "8900  orang jahat sentuh pribadi ranchibhagalpur exp...  ...         1\n",
              "8901              usia jenis leceh catcalls pasar boleh  ...         0\n",
              "\n",
              "[8902 rows x 4 columns]"
            ]
          },
          "metadata": {
            "tags": []
          },
          "execution_count": 13
        }
      ]
    },
    {
      "cell_type": "code",
      "metadata": {
        "colab": {
          "base_uri": "https://localhost:8080/"
        },
        "id": "Vb5kpcVAiPB9",
        "outputId": "4985f862-18c2-4975-e992-0d8594285883"
      },
      "source": [
        "from sklearn.model_selection import train_test_split\n",
        "train, test = train_test_split(df_dataset2, test_size=0.2)\n",
        "train, val = train_test_split(train, test_size=0.2)\n",
        "print(len(train), 'train examples')\n",
        "print(len(val), 'validation examples')\n",
        "print(len(test), 'test examples')"
      ],
      "execution_count": null,
      "outputs": [
        {
          "output_type": "stream",
          "text": [
            "5696 train examples\n",
            "1425 validation examples\n",
            "1781 test examples\n"
          ],
          "name": "stdout"
        }
      ]
    },
    {
      "cell_type": "code",
      "metadata": {
        "id": "uYJMI_f-MIjg"
      },
      "source": [
        "train_deskripsi = train['deskripsi']\n",
        "train_label_komentar = train['komentar']\n",
        "train_label_menatap = train['menatap']\n",
        "train_label_memegang = train['memegang']\n",
        "\n",
        "val_deskripsi = val['deskripsi']\n",
        "val_label_komentar = val['komentar']\n",
        "val_label_menatap = val['menatap']\n",
        "val_label_memegang = val['memegang']\n",
        "\n",
        "test_deskripsi = test['deskripsi']\n",
        "test_label_komentar = test['komentar']\n",
        "test_label_menatap = test['menatap']\n",
        "test_label_memegang = test['memegang']"
      ],
      "execution_count": null,
      "outputs": []
    },
    {
      "cell_type": "code",
      "metadata": {
        "id": "c7AVdLJOhN4s"
      },
      "source": [
        "def df_to_datasetBatch(dataframe, dataframe_label, batch_size, prefetch, shuffle):\n",
        "  dataframe = dataframe.values\n",
        "  labels = dataframe_label.values.astype(dtype=np.float32)\n",
        "  ds = tf.data.Dataset.from_tensor_slices((dataframe, labels))\n",
        "  if shuffle:\n",
        "    ds = ds.shuffle(buffer_size=len(dataframe))\n",
        "  ds = ds.batch(batch_size)\n",
        "  ds = ds.prefetch(prefetch)\n",
        "  return ds"
      ],
      "execution_count": null,
      "outputs": []
    },
    {
      "cell_type": "code",
      "metadata": {
        "id": "9UQVxKvjWvv8"
      },
      "source": [
        "batch_size = 20\n",
        "prefetch = 1\n",
        "shuffle = True\n",
        "\n",
        "#Komentar\n",
        "train_komentar_batches = df_to_datasetBatch(train_deskripsi, train_label_komentar, batch_size=batch_size, prefetch=prefetch, shuffle=shuffle)\n",
        "val_komentar_batches = df_to_datasetBatch(val_deskripsi, val_label_komentar, batch_size=batch_size, prefetch=prefetch, shuffle=shuffle)\n",
        "test_komentar_batches = df_to_datasetBatch(test_deskripsi, test_label_komentar, batch_size=batch_size, prefetch=prefetch, shuffle=shuffle)\n",
        "\n",
        "#Menatap\n",
        "#train_menatap_batches = df_to_datasetBatch(train_deskripsi, train_label_menatap, batch_size=batch_size, prefetch=prefetch, shuffle=shuffle)\n",
        "#val_menatap_batches = df_to_datasetBatch(val_deskripsi, val_label_menatap, batch_size=batch_size, prefetch=prefetch, shuffle=shuffle)\n",
        "#test_menatap_batches = df_to_datasetBatch(test_deskripsi, test_label_menatap, batch_size=batch_size, prefetch=prefetch, shuffle=shuffle)\n",
        "\n",
        "#Memegang\n",
        "#train_memegang_batches = df_to_datasetBatch(train_deskripsi, train_label_memegang, batch_size=batch_size, prefetch=prefetch, shuffle=shuffle)\n",
        "#val_memegang_batches = df_to_datasetBatch(val_deskripsi, val_label_memegang, batch_size=batch_size, prefetch=prefetch, shuffle=shuffle)\n",
        "#test_memegang_batches = df_to_datasetBatch(test_deskripsi, test_label_memegang, batch_size=batch_size, prefetch=prefetch, shuffle=shuffle)"
      ],
      "execution_count": null,
      "outputs": []
    },
    {
      "cell_type": "code",
      "metadata": {
        "colab": {
          "base_uri": "https://localhost:8080/"
        },
        "id": "qnK0yw0zh_ug",
        "outputId": "12bf83f2-2ea8-4bed-9a81-2a77e54bf384"
      },
      "source": [
        "train_komentar_batches"
      ],
      "execution_count": null,
      "outputs": [
        {
          "output_type": "execute_result",
          "data": {
            "text/plain": [
              "<PrefetchDataset shapes: ((None,), (None,)), types: (tf.string, tf.float32)>"
            ]
          },
          "metadata": {
            "tags": []
          },
          "execution_count": 18
        }
      ]
    },
    {
      "cell_type": "code",
      "metadata": {
        "id": "wPFwVOqKc9Iu"
      },
      "source": [
        "embedding = \"https://tfhub.dev/google/nnlm-id-dim128/2\"\n",
        "hub_layer = hub.KerasLayer(embedding, input_shape=[], dtype=tf.string, trainable=True)"
      ],
      "execution_count": null,
      "outputs": []
    },
    {
      "cell_type": "markdown",
      "metadata": {
        "id": "3j7C10jsNkm6"
      },
      "source": [
        "## Create Komentar Model"
      ]
    },
    {
      "cell_type": "code",
      "metadata": {
        "colab": {
          "base_uri": "https://localhost:8080/"
        },
        "id": "6o2g0d2bNpXz",
        "outputId": "9c61b872-5448-4ff8-f0f2-764332c803ab"
      },
      "source": [
        "modelKomentar = tf.keras.Sequential([\n",
        "        hub_layer,\n",
        "        tf.keras.layers.Dense(16, activation='relu'),\n",
        "        tf.keras.layers.Dropout(0.3),\n",
        "        tf.keras.layers.Dense(1, activation='sigmoid')])\n",
        "\n",
        "\n",
        "modelKomentar.compile(optimizer=tf.keras.optimizers.Adam(learning_rate=1e-4),\n",
        "              loss='binary_crossentropy',\n",
        "              metrics=['accuracy'])\n",
        "\n",
        "modelKomentar.summary()\n",
        "\n",
        "historyKomentar = modelKomentar.fit(train_komentar_batches,\n",
        "                        validation_data=val_komentar_batches,\n",
        "                        epochs=10)"
      ],
      "execution_count": null,
      "outputs": [
        {
          "output_type": "stream",
          "text": [
            "Model: \"sequential\"\n",
            "_________________________________________________________________\n",
            "Layer (type)                 Output Shape              Param #   \n",
            "=================================================================\n",
            "keras_layer (KerasLayer)     (None, 128)               112461824 \n",
            "_________________________________________________________________\n",
            "dense (Dense)                (None, 16)                2064      \n",
            "_________________________________________________________________\n",
            "dropout (Dropout)            (None, 16)                0         \n",
            "_________________________________________________________________\n",
            "dense_1 (Dense)              (None, 1)                 17        \n",
            "=================================================================\n",
            "Total params: 112,463,905\n",
            "Trainable params: 112,463,905\n",
            "Non-trainable params: 0\n",
            "_________________________________________________________________\n",
            "Epoch 1/10\n",
            "285/285 [==============================] - 21s 63ms/step - loss: 0.6592 - accuracy: 0.6134 - val_loss: 0.6380 - val_accuracy: 0.6309\n",
            "Epoch 2/10\n",
            "285/285 [==============================] - 18s 63ms/step - loss: 0.6333 - accuracy: 0.6352 - val_loss: 0.6158 - val_accuracy: 0.6526\n",
            "Epoch 3/10\n",
            "285/285 [==============================] - 18s 63ms/step - loss: 0.6082 - accuracy: 0.6787 - val_loss: 0.5924 - val_accuracy: 0.6919\n",
            "Epoch 4/10\n",
            "285/285 [==============================] - 18s 62ms/step - loss: 0.5791 - accuracy: 0.7170 - val_loss: 0.5660 - val_accuracy: 0.7312\n",
            "Epoch 5/10\n",
            "285/285 [==============================] - 18s 62ms/step - loss: 0.5471 - accuracy: 0.7553 - val_loss: 0.5411 - val_accuracy: 0.7516\n",
            "Epoch 6/10\n",
            "285/285 [==============================] - 18s 63ms/step - loss: 0.5145 - accuracy: 0.7784 - val_loss: 0.5194 - val_accuracy: 0.7649\n",
            "Epoch 7/10\n",
            "285/285 [==============================] - 18s 62ms/step - loss: 0.4812 - accuracy: 0.8039 - val_loss: 0.5010 - val_accuracy: 0.7796\n",
            "Epoch 8/10\n",
            "285/285 [==============================] - 18s 62ms/step - loss: 0.4512 - accuracy: 0.8155 - val_loss: 0.4878 - val_accuracy: 0.7818\n",
            "Epoch 9/10\n",
            "285/285 [==============================] - 18s 62ms/step - loss: 0.4254 - accuracy: 0.8278 - val_loss: 0.4792 - val_accuracy: 0.7860\n",
            "Epoch 10/10\n",
            "285/285 [==============================] - 18s 62ms/step - loss: 0.4004 - accuracy: 0.8429 - val_loss: 0.4726 - val_accuracy: 0.7937\n"
          ],
          "name": "stdout"
        }
      ]
    },
    {
      "cell_type": "code",
      "metadata": {
        "colab": {
          "base_uri": "https://localhost:8080/",
          "height": 542
        },
        "id": "-v5WkOZZmSUk",
        "outputId": "2be9b8e9-62c1-4292-8023-976a7f6cd723"
      },
      "source": [
        "import matplotlib.pyplot as plt\n",
        "\n",
        "\n",
        "def plot_graphs(history, string):\n",
        "  plt.plot(history.history[string])\n",
        "  plt.plot(history.history['val_'+string])\n",
        "  plt.xlabel(\"Epochs\")\n",
        "  plt.ylabel(string)\n",
        "  plt.legend([string, 'val_'+string])\n",
        "  plt.show()\n",
        "  \n",
        "plot_graphs(historyKomentar, \"accuracy\")\n",
        "plot_graphs(historyKomentar, \"loss\")"
      ],
      "execution_count": null,
      "outputs": [
        {
          "output_type": "display_data",
          "data": {
            "image/png": "[encoded data removed]",
            "text/plain": [
              "<Figure size 432x288 with 1 Axes>"
            ]
          },
          "metadata": {
            "tags": [],
            "needs_background": "light"
          }
        },
        {
          "output_type": "display_data",
          "data": {
            "image/png": "[encoded data removed]",
            "text/plain": [
              "<Figure size 432x288 with 1 Axes>"
            ]
          },
          "metadata": {
            "tags": [],
            "needs_background": "light"
          }
        }
      ]
    },
    {
      "cell_type": "code",
      "metadata": {
        "colab": {
          "base_uri": "https://localhost:8080/"
        },
        "id": "PIKmvXwtm4vO",
        "outputId": "b2826b21-3dc3-4919-8297-306eca180c72"
      },
      "source": [
        "eval_results_komentar = modelKomentar.evaluate(test_komentar_batches, verbose=0)\n",
        "\n",
        "for metric, value in zip(modelKomentar.metrics_names, eval_results_komentar):\n",
        "    print(metric + ': {:.3}'.format(value))"
      ],
      "execution_count": null,
      "outputs": [
        {
          "output_type": "stream",
          "text": [
            "loss: 0.49\n",
            "accuracy: 0.777\n"
          ],
          "name": "stdout"
        }
      ]
    },
    {
      "cell_type": "markdown",
      "metadata": {
        "id": "oy2jUh8nt9UI"
      },
      "source": [
        "## Create Menatap Model"
      ]
    },
    {
      "cell_type": "code",
      "metadata": {
        "colab": {
          "base_uri": "https://localhost:8080/"
        },
        "id": "lt27PDVLuQfL",
        "outputId": "dbdf0bf2-d3f6-4529-c3bb-5e48d9692015"
      },
      "source": [
        "train_menatap_batches"
      ],
      "execution_count": null,
      "outputs": [
        {
          "output_type": "execute_result",
          "data": {
            "text/plain": [
              "<PrefetchDataset shapes: ((None,), (None,)), types: (tf.string, tf.float32)>"
            ]
          },
          "metadata": {
            "tags": []
          },
          "execution_count": 29
        }
      ]
    },
    {
      "cell_type": "code",
      "metadata": {
        "colab": {
          "base_uri": "https://localhost:8080/"
        },
        "id": "IKEPN1cmuWJE",
        "outputId": "bf5f6406-65d1-421d-8b77-b1ac37677dbd"
      },
      "source": [
        "modelTatap = tf.keras.Sequential([\n",
        "        hub_layer,\n",
        "        tf.keras.layers.Dense(16, activation='relu'),\n",
        "        tf.keras.layers.Dropout(0.3),\n",
        "        tf.keras.layers.Dense(1, activation='sigmoid')])\n",
        "\n",
        "\n",
        "modelTatap.compile(optimizer=tf.keras.optimizers.Adam(learning_rate=1e-4),\n",
        "              loss='binary_crossentropy',\n",
        "              metrics=['accuracy'])\n",
        "\n",
        "modelTatap.summary()\n",
        "\n",
        "historyTatap = modelTatap.fit(train_menatap_batches,\n",
        "                        validation_data=val_menatap_batches,\n",
        "                        epochs=10)"
      ],
      "execution_count": null,
      "outputs": [
        {
          "output_type": "stream",
          "text": [
            "Model: \"sequential_2\"\n",
            "_________________________________________________________________\n",
            "Layer (type)                 Output Shape              Param #   \n",
            "=================================================================\n",
            "keras_layer (KerasLayer)     (None, 128)               112461824 \n",
            "_________________________________________________________________\n",
            "dense_4 (Dense)              (None, 16)                2064      \n",
            "_________________________________________________________________\n",
            "dropout_2 (Dropout)          (None, 16)                0         \n",
            "_________________________________________________________________\n",
            "dense_5 (Dense)              (None, 1)                 17        \n",
            "=================================================================\n",
            "Total params: 112,463,905\n",
            "Trainable params: 112,463,905\n",
            "Non-trainable params: 0\n",
            "_________________________________________________________________\n",
            "Epoch 1/10\n",
            "285/285 [==============================] - 18s 62ms/step - loss: 0.6327 - accuracy: 0.7231 - val_loss: 0.5796 - val_accuracy: 0.7712\n",
            "Epoch 2/10\n",
            "285/285 [==============================] - 17s 61ms/step - loss: 0.5382 - accuracy: 0.7895 - val_loss: 0.5317 - val_accuracy: 0.7705\n",
            "Epoch 3/10\n",
            "285/285 [==============================] - 17s 61ms/step - loss: 0.5022 - accuracy: 0.7911 - val_loss: 0.5196 - val_accuracy: 0.7719\n",
            "Epoch 4/10\n",
            "285/285 [==============================] - 17s 61ms/step - loss: 0.4886 - accuracy: 0.7951 - val_loss: 0.5103 - val_accuracy: 0.7761\n",
            "Epoch 5/10\n",
            "285/285 [==============================] - 17s 61ms/step - loss: 0.4734 - accuracy: 0.7974 - val_loss: 0.5016 - val_accuracy: 0.7782\n",
            "Epoch 6/10\n",
            "285/285 [==============================] - 17s 61ms/step - loss: 0.4590 - accuracy: 0.8060 - val_loss: 0.4927 - val_accuracy: 0.7881\n",
            "Epoch 7/10\n",
            "285/285 [==============================] - 17s 61ms/step - loss: 0.4461 - accuracy: 0.8151 - val_loss: 0.4854 - val_accuracy: 0.7937\n",
            "Epoch 8/10\n",
            "285/285 [==============================] - 17s 61ms/step - loss: 0.4309 - accuracy: 0.8243 - val_loss: 0.4777 - val_accuracy: 0.7972\n",
            "Epoch 9/10\n",
            "285/285 [==============================] - 17s 61ms/step - loss: 0.4160 - accuracy: 0.8295 - val_loss: 0.4723 - val_accuracy: 0.8063\n",
            "Epoch 10/10\n",
            "285/285 [==============================] - 17s 61ms/step - loss: 0.4065 - accuracy: 0.8360 - val_loss: 0.4702 - val_accuracy: 0.8063\n"
          ],
          "name": "stdout"
        }
      ]
    },
    {
      "cell_type": "code",
      "metadata": {
        "colab": {
          "base_uri": "https://localhost:8080/"
        },
        "id": "arhXO1uMxr5h",
        "outputId": "30d4b577-376b-4154-ccc4-bc5fb10db41f"
      },
      "source": [
        "eval_results_menatap = modelTatap.evaluate(test_menatap_batches, verbose=0)\n",
        "\n",
        "for metric, value in zip(modelTatap.metrics_names, eval_results_menatap):\n",
        "    print(metric + ': {:.3}'.format(value))"
      ],
      "execution_count": null,
      "outputs": [
        {
          "output_type": "stream",
          "text": [
            "loss: 0.431\n",
            "accuracy: 0.831\n"
          ],
          "name": "stdout"
        }
      ]
    },
    {
      "cell_type": "code",
      "metadata": {
        "id": "yrSQqptkndRw"
      },
      "source": [
        ""
      ],
      "execution_count": null,
      "outputs": []
    },
    {
      "cell_type": "markdown",
      "metadata": {
        "id": "TRpszgv0yhUQ"
      },
      "source": [
        "## Create Memegang Model"
      ]
    },
    {
      "cell_type": "code",
      "metadata": {
        "colab": {
          "base_uri": "https://localhost:8080/"
        },
        "id": "oyyPYSF_yu0z",
        "outputId": "03107031-a9da-415f-b7d2-842e99229f57"
      },
      "source": [
        "train_memegang_batches"
      ],
      "execution_count": null,
      "outputs": [
        {
          "output_type": "execute_result",
          "data": {
            "text/plain": [
              "<PrefetchDataset shapes: ((None,), (None,)), types: (tf.string, tf.float32)>"
            ]
          },
          "metadata": {
            "tags": []
          },
          "execution_count": 32
        }
      ]
    },
    {
      "cell_type": "code",
      "metadata": {
        "colab": {
          "base_uri": "https://localhost:8080/"
        },
        "id": "LKiRv7CAy1xP",
        "outputId": "3cfef70a-d6e2-4aeb-e2ee-57d2a8a4b55d"
      },
      "source": [
        "modelPegang = tf.keras.Sequential([\n",
        "        hub_layer,\n",
        "        tf.keras.layers.Dense(16, activation='relu'),\n",
        "        tf.keras.layers.Dropout(0.3),\n",
        "        tf.keras.layers.Dense(1, activation='sigmoid')])\n",
        "\n",
        "\n",
        "modelPegang.compile(optimizer=tf.keras.optimizers.Adam(learning_rate=1e-4),\n",
        "              loss='binary_crossentropy',\n",
        "              metrics=['accuracy'])\n",
        "\n",
        "modelPegang.summary()\n",
        "\n",
        "historyPegang = modelPegang.fit(train_memegang_batches,\n",
        "                        validation_data=val_memegang_batches,\n",
        "                        epochs=10)"
      ],
      "execution_count": null,
      "outputs": [
        {
          "output_type": "stream",
          "text": [
            "Model: \"sequential_3\"\n",
            "_________________________________________________________________\n",
            "Layer (type)                 Output Shape              Param #   \n",
            "=================================================================\n",
            "keras_layer (KerasLayer)     (None, 128)               112461824 \n",
            "_________________________________________________________________\n",
            "dense_6 (Dense)              (None, 16)                2064      \n",
            "_________________________________________________________________\n",
            "dropout_3 (Dropout)          (None, 16)                0         \n",
            "_________________________________________________________________\n",
            "dense_7 (Dense)              (None, 1)                 17        \n",
            "=================================================================\n",
            "Total params: 112,463,905\n",
            "Trainable params: 112,463,905\n",
            "Non-trainable params: 0\n",
            "_________________________________________________________________\n",
            "Epoch 1/10\n",
            "285/285 [==============================] - 18s 62ms/step - loss: 0.6327 - accuracy: 0.6773 - val_loss: 0.5904 - val_accuracy: 0.7088\n",
            "Epoch 2/10\n",
            "285/285 [==============================] - 18s 62ms/step - loss: 0.5552 - accuracy: 0.7500 - val_loss: 0.5274 - val_accuracy: 0.7733\n",
            "Epoch 3/10\n",
            "285/285 [==============================] - 17s 61ms/step - loss: 0.4936 - accuracy: 0.8057 - val_loss: 0.4711 - val_accuracy: 0.8000\n",
            "Epoch 4/10\n",
            "285/285 [==============================] - 18s 62ms/step - loss: 0.4387 - accuracy: 0.8371 - val_loss: 0.4241 - val_accuracy: 0.8295\n",
            "Epoch 5/10\n",
            "285/285 [==============================] - 18s 62ms/step - loss: 0.4002 - accuracy: 0.8525 - val_loss: 0.3938 - val_accuracy: 0.8421\n",
            "Epoch 6/10\n",
            "285/285 [==============================] - 18s 63ms/step - loss: 0.3693 - accuracy: 0.8659 - val_loss: 0.3747 - val_accuracy: 0.8456\n",
            "Epoch 7/10\n",
            "285/285 [==============================] - 18s 62ms/step - loss: 0.3443 - accuracy: 0.8792 - val_loss: 0.3628 - val_accuracy: 0.8498\n",
            "Epoch 8/10\n",
            "285/285 [==============================] - 18s 62ms/step - loss: 0.3299 - accuracy: 0.8799 - val_loss: 0.3564 - val_accuracy: 0.8547\n",
            "Epoch 9/10\n",
            "285/285 [==============================] - 18s 62ms/step - loss: 0.3136 - accuracy: 0.8869 - val_loss: 0.3509 - val_accuracy: 0.8604\n",
            "Epoch 10/10\n",
            "285/285 [==============================] - 17s 61ms/step - loss: 0.3000 - accuracy: 0.8910 - val_loss: 0.3514 - val_accuracy: 0.8589\n"
          ],
          "name": "stdout"
        }
      ]
    },
    {
      "cell_type": "code",
      "metadata": {
        "colab": {
          "base_uri": "https://localhost:8080/"
        },
        "id": "2ILW6bY6zQ8l",
        "outputId": "0129e8d2-659e-4fd6-d076-637d889a8d46"
      },
      "source": [
        "eval_results_memegang = modelPegang.evaluate(test_memegang_batches, verbose=0)\n",
        "\n",
        "for metric, value in zip(modelPegang.metrics_names, eval_results_memegang):\n",
        "    print(metric + ': {:.3}'.format(value))"
      ],
      "execution_count": null,
      "outputs": [
        {
          "output_type": "stream",
          "text": [
            "loss: 0.368\n",
            "accuracy: 0.862\n"
          ],
          "name": "stdout"
        }
      ]
    },
    {
      "cell_type": "markdown",
      "metadata": {
        "id": "wP1t0OpE0GrI"
      },
      "source": [
        "## Save Model"
      ]
    },
    {
      "cell_type": "code",
      "metadata": {
        "id": "Pmb5ufSa0RAD"
      },
      "source": [
        "modelKomentar.save('/content/model')"
      ],
      "execution_count": null,
      "outputs": []
    },
    {
      "cell_type": "markdown",
      "metadata": {
        "id": "Tn7dPaAoW1wR"
      },
      "source": [
        "## Predict"
      ]
    },
    {
      "cell_type": "code",
      "metadata": {
        "id": "7M3ZfwfQW39g"
      },
      "source": [
        "predictions = model.predict(np.expand_dims('Text', 0))"
      ],
      "execution_count": null,
      "outputs": []
    }
  ]
}